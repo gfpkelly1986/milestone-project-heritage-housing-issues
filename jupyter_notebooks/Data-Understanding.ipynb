{
  "cells": [
    {
      "attachments": {},
      "cell_type": "markdown",
      "metadata": {
        "id": "0aStgWSO0E0E"
      },
      "source": [
        "# **(Data-Understanding and Further Cleaning)**"
      ]
    },
    {
      "attachments": {},
      "cell_type": "markdown",
      "metadata": {
        "id": "1eLEkw5O0ECa"
      },
      "source": [
        "## Objectives\n",
        "\n",
        "* Discover how various house attributes correlate with the final sale price. (Business Requirement 1)\n",
        "\n",
        "* Analyse variables containing missing values and fill them in appropriately\n",
        "\n",
        "## Inputs\n",
        "\n",
        "* outputs/datasets/collection/inherited.csv\n",
        "\n",
        "* outputs/datasets/collection/original.csv\n",
        "\n",
        "## Outputs\n",
        "\n",
        "* Relevant plots so the client can quickly visualize the results of the correlation analysis. (How certain features may impact the sale price)\n",
        "\n",
        "* outputs/datasets/collection/original_no_nan.csv\n",
        "\n",
        "* outputs/datasets/collection/further_analysis.csv\n"
      ]
    },
    {
      "cell_type": "markdown",
      "metadata": {
        "id": "9uWZXH9LwoQg"
      },
      "source": [
        "---"
      ]
    },
    {
      "cell_type": "markdown",
      "metadata": {
        "id": "cqP-UeN-z3i2"
      },
      "source": [
        "# Change working directory"
      ]
    },
    {
      "cell_type": "markdown",
      "metadata": {},
      "source": [
        "* We are assuming you will store the notebooks in a subfolder, therefore when running the notebook in the editor, you will need to change the working directory"
      ]
    },
    {
      "cell_type": "markdown",
      "metadata": {
        "id": "aOGIGS-uz3i2"
      },
      "source": [
        "We need to change the working directory from its current folder to its parent folder\n",
        "* We access the current directory with os.getcwd()"
      ]
    },
    {
      "cell_type": "code",
      "execution_count": null,
      "metadata": {
        "id": "wZfF_j-Bz3i4",
        "outputId": "66943449-1436-4c3d-85c7-b85f9f78349b"
      },
      "outputs": [],
      "source": [
        "import os\n",
        "current_dir = os.getcwd()\n",
        "current_dir"
      ]
    },
    {
      "cell_type": "markdown",
      "metadata": {
        "id": "9MWW8E7lz3i7"
      },
      "source": [
        "We want to make the parent of the current directory the new current directory\n",
        "* os.path.dirname() gets the parent directory\n",
        "* os.chir() defines the new current directory"
      ]
    },
    {
      "cell_type": "code",
      "execution_count": null,
      "metadata": {
        "id": "TwHsQRWjz3i9",
        "outputId": "86849db3-cd2f-4cc5-ebb8-2d0caafa1a2c"
      },
      "outputs": [],
      "source": [
        "os.chdir(os.path.dirname(current_dir))\n",
        "print(\"You set a new current directory\")"
      ]
    },
    {
      "cell_type": "markdown",
      "metadata": {
        "id": "M_xPk_Ijz3i-"
      },
      "source": [
        "Confirm the new current directory"
      ]
    },
    {
      "cell_type": "code",
      "execution_count": null,
      "metadata": {
        "id": "vz3S-_kjz3jA",
        "outputId": "00b79ae4-75d0-4a96-d193-ac9ef9847ea2"
      },
      "outputs": [],
      "source": [
        "current_dir = os.getcwd()\n",
        "current_dir"
      ]
    },
    {
      "attachments": {},
      "cell_type": "markdown",
      "metadata": {
        "id": "-mavJ8DibrcQ"
      },
      "source": [
        "## Load Data"
      ]
    },
    {
      "cell_type": "code",
      "execution_count": null,
      "metadata": {},
      "outputs": [],
      "source": [
        "import pandas as pd\n",
        "\n",
        "df_original = pd.read_csv(\"outputs/datasets/collection/original.csv\")\n",
        "\n",
        "df_original.head(5)"
      ]
    },
    {
      "cell_type": "markdown",
      "metadata": {
        "id": "ZY3l0-AxO93d"
      },
      "source": [
        "---"
      ]
    },
    {
      "attachments": {},
      "cell_type": "markdown",
      "metadata": {
        "id": "uFQo3ycuO-v6"
      },
      "source": [
        "# Pandas Profiling Report"
      ]
    },
    {
      "cell_type": "code",
      "execution_count": null,
      "metadata": {},
      "outputs": [],
      "source": [
        "from pandas_profiling import ProfileReport\n",
        "\n",
        "report_on_house_records = ProfileReport(df=df_original, title='An overview of the original dataset', minimal=True)\n",
        "report_on_house_records.to_notebook_iframe()\n"
      ]
    },
    {
      "cell_type": "markdown",
      "metadata": {},
      "source": [
        "---"
      ]
    },
    {
      "attachments": {},
      "cell_type": "markdown",
      "metadata": {},
      "source": [
        "- To OneHotEncode categorical variables, missing values will need to be removed."
      ]
    },
    {
      "cell_type": "code",
      "execution_count": null,
      "metadata": {},
      "outputs": [],
      "source": [
        "import pandas as pd\n",
        "import matplotlib.pyplot as plt\n",
        "import seaborn as sns"
      ]
    },
    {
      "cell_type": "code",
      "execution_count": null,
      "metadata": {},
      "outputs": [],
      "source": [
        "df_original.head(8)"
      ]
    },
    {
      "cell_type": "code",
      "execution_count": null,
      "metadata": {},
      "outputs": [],
      "source": [
        "df_original.info()\n"
      ]
    },
    {
      "attachments": {},
      "cell_type": "markdown",
      "metadata": {},
      "source": [
        "###     Assess the variables with missing values to determine if/how to fill them or drop them."
      ]
    },
    {
      "attachments": {},
      "cell_type": "markdown",
      "metadata": {},
      "source": [
        "- After looking at the BsmtFinType1 one column again I replaced the nan values with 'none'. I felt in this dataset they were saying the same thing, i.e. there were no finishes in the basement.\n",
        "\n",
        "    - I plotted a bar plot to see what the distribution was like before and after the change."
      ]
    },
    {
      "cell_type": "code",
      "execution_count": null,
      "metadata": {},
      "outputs": [],
      "source": [
        "columns_with_nan = df_original.columns[df_original.isna().sum() > 0].to_list()\n",
        "columns_with_nan\n",
        "\n",
        "df_original[columns_with_nan].isna().sum()"
      ]
    },
    {
      "cell_type": "code",
      "execution_count": null,
      "metadata": {},
      "outputs": [],
      "source": [
        "print(df_original['BsmtFinType1'].value_counts())\n",
        "print(df_original['BsmtFinType1'].unique())"
      ]
    },
    {
      "cell_type": "code",
      "execution_count": null,
      "metadata": {},
      "outputs": [],
      "source": [
        "df_original.value_counts('BsmtFinType1').plot(kind='bar', figsize=(10,4))\n",
        "plt.show()"
      ]
    },
    {
      "cell_type": "code",
      "execution_count": null,
      "metadata": {},
      "outputs": [],
      "source": [
        "df_original['BsmtFinType1'] = df_original['BsmtFinType1'].fillna(value='None')"
      ]
    },
    {
      "cell_type": "code",
      "execution_count": null,
      "metadata": {},
      "outputs": [],
      "source": [
        "print(df_original['BsmtFinType1'].value_counts())\n",
        "print(df_original['BsmtFinType1'].unique())"
      ]
    },
    {
      "cell_type": "code",
      "execution_count": null,
      "metadata": {},
      "outputs": [],
      "source": [
        "df_original.value_counts('BsmtFinType1').plot(kind='bar', figsize=(10,4))\n",
        "plt.show()"
      ]
    },
    {
      "attachments": {},
      "cell_type": "markdown",
      "metadata": {},
      "source": [
        "- I approached GarageFinish in the same way and grouped the nan values into the 'None' category"
      ]
    },
    {
      "cell_type": "code",
      "execution_count": null,
      "metadata": {},
      "outputs": [],
      "source": [
        "print(df_original['GarageFinish'].value_counts())\n",
        "print(df_original['GarageFinish'].unique())"
      ]
    },
    {
      "cell_type": "code",
      "execution_count": null,
      "metadata": {},
      "outputs": [],
      "source": [
        "df_original.value_counts('GarageFinish').plot(kind='bar', figsize=(10,4))"
      ]
    },
    {
      "cell_type": "code",
      "execution_count": null,
      "metadata": {},
      "outputs": [],
      "source": [
        "df_original['GarageFinish'] = df_original['GarageFinish'].fillna(value='None')\n",
        "print(df_original['GarageFinish'].value_counts())\n",
        "print(df_original['GarageFinish'].unique())"
      ]
    },
    {
      "cell_type": "code",
      "execution_count": null,
      "metadata": {},
      "outputs": [],
      "source": [
        "df_original.value_counts('GarageFinish').plot(kind='bar', figsize=(10,4))"
      ]
    },
    {
      "attachments": {},
      "cell_type": "markdown",
      "metadata": {},
      "source": [
        "- From looking at the histogram in the Pandas profiling report above for GarageYrBlt, I could see that the distribution of values was not normal. \n",
        "\n",
        "- The mean and median are close in terms of when the properties were built so I will fill nan values in this catgory with the median value for this category."
      ]
    },
    {
      "cell_type": "code",
      "execution_count": null,
      "metadata": {},
      "outputs": [],
      "source": [
        "print(df_original['GarageYrBlt'].mean())\n",
        "print(df_original['GarageYrBlt'].median())"
      ]
    },
    {
      "cell_type": "code",
      "execution_count": null,
      "metadata": {},
      "outputs": [],
      "source": [
        "df_original['GarageYrBlt'].plot(kind='hist', y='GarageYrBlt', bins=10)"
      ]
    },
    {
      "cell_type": "code",
      "execution_count": null,
      "metadata": {},
      "outputs": [],
      "source": [
        "columns_with_nan = df_original.columns[df_original.isna().sum() > 0].to_list()\n",
        "columns_with_nan"
      ]
    },
    {
      "cell_type": "code",
      "execution_count": null,
      "metadata": {},
      "outputs": [],
      "source": [
        "df_original['GarageYrBlt'] = df_original['GarageYrBlt'].fillna(df_original['GarageYrBlt'].median())"
      ]
    },
    {
      "cell_type": "code",
      "execution_count": null,
      "metadata": {},
      "outputs": [],
      "source": [
        "columns_with_nan = df_original.columns[df_original.isna().sum() > 0].to_list()\n",
        "columns_with_nan"
      ]
    },
    {
      "cell_type": "code",
      "execution_count": null,
      "metadata": {},
      "outputs": [],
      "source": [
        "df_original['GarageYrBlt'].plot(kind='hist', y='GarageYrBlt', bins=10)"
      ]
    },
    {
      "attachments": {},
      "cell_type": "markdown",
      "metadata": {},
      "source": [
        "- Lot Frontage: I filled the nan values with the median again here. Histograms plotted to show the before and after effects."
      ]
    },
    {
      "cell_type": "code",
      "execution_count": null,
      "metadata": {},
      "outputs": [],
      "source": [
        "df_original['LotFrontage'].plot(kind='hist', y='LotFrontage', bins=10)"
      ]
    },
    {
      "cell_type": "code",
      "execution_count": null,
      "metadata": {},
      "outputs": [],
      "source": [
        "print(df_original['LotFrontage'].mean())\n",
        "print(df_original['LotFrontage'].median())"
      ]
    },
    {
      "cell_type": "code",
      "execution_count": null,
      "metadata": {},
      "outputs": [],
      "source": [
        "df_original['LotFrontage'] = df_original['LotFrontage'].fillna(df_original['LotFrontage'].median())"
      ]
    },
    {
      "cell_type": "code",
      "execution_count": null,
      "metadata": {},
      "outputs": [],
      "source": [
        "df_original['LotFrontage'].plot(kind='hist', y='LotFrontage', bins=10)\n",
        "print(df_original['LotFrontage'].mean())\n",
        "print(df_original['LotFrontage'].median())"
      ]
    },
    {
      "attachments": {},
      "cell_type": "markdown",
      "metadata": {},
      "source": [
        "#### Categorical variables can now be OneHotEncoded"
      ]
    },
    {
      "cell_type": "code",
      "execution_count": null,
      "metadata": {},
      "outputs": [],
      "source": [
        "from feature_engine.encoding import OneHotEncoder\n",
        "\n",
        "encoder = OneHotEncoder(variables=df_original.columns[df_original.dtypes == 'object'].tolist(), drop_last=False)\n",
        "\n",
        "encoded_df = encoder.fit_transform(df_original)\n",
        "\n",
        "print(encoded_df.shape)\n",
        "\n",
        "encoded_df.head(5)"
      ]
    },
    {
      "cell_type": "code",
      "execution_count": null,
      "metadata": {},
      "outputs": [],
      "source": [
        "spearman_correlation = encoded_df.corr(method='spearman')['SalePrice'].sort_values(key=abs, ascending=False)[1:].head(10)\n",
        "spearman_correlation "
      ]
    },
    {
      "cell_type": "code",
      "execution_count": null,
      "metadata": {},
      "outputs": [],
      "source": [
        "pearson_correlation = encoded_df.corr(method='pearson')['SalePrice'].sort_values(key=abs, ascending=False)[1:].head(10)\n",
        "pearson_correlation "
      ]
    },
    {
      "cell_type": "code",
      "execution_count": null,
      "metadata": {},
      "outputs": [],
      "source": [
        "df_original['KitchenQual'].unique()"
      ]
    },
    {
      "attachments": {},
      "cell_type": "markdown",
      "metadata": {},
      "source": [
        "#### Observations from the spearmans and pearsons tests.\n",
        "\n",
        "- OverallQual and GrLivArea look highly correlated with sale price which at this stage looks to strengthen the initial hypothesis\n",
        "\n",
        "- KitchenQual which is average shows negative correlation with sale price\n",
        "\n",
        "- KitchenQual which is Gd/Ex is showing positive correlation. This ranking of KitchenQual is important to consider further\n",
        "\n",
        "- I will consider further, all features that returned values above 0.5 for either test\n"
      ]
    },
    {
      "cell_type": "code",
      "execution_count": null,
      "metadata": {},
      "outputs": [],
      "source": [
        "columns_of_interest = ['OverallQual', 'GrLivArea', 'YearBuilt', 'GarageArea', 'TotalBsmtSF', '1stFlrSF', 'YearRemodAdd', 'GarageYrBlt', 'KitchenQual']\n",
        "\n",
        "columns_of_interest"
      ]
    },
    {
      "attachments": {},
      "cell_type": "markdown",
      "metadata": {},
      "source": [
        "### EDA on selected variables"
      ]
    },
    {
      "cell_type": "code",
      "execution_count": null,
      "metadata": {},
      "outputs": [],
      "source": [
        "df_further_analyis = df_original.filter(columns_of_interest + ['SalePrice'])\n",
        "df_further_analyis.head(10)\n",
        "print(df_further_analyis.info())"
      ]
    },
    {
      "attachments": {},
      "cell_type": "markdown",
      "metadata": {},
      "source": [
        "- Changing GarageYrBuilt data type here to keep things uniform."
      ]
    },
    {
      "cell_type": "code",
      "execution_count": null,
      "metadata": {},
      "outputs": [],
      "source": [
        "df_further_analyis['GarageYrBlt'] = df_further_analyis['GarageYrBlt'].astype('int')\n",
        "print(df_further_analyis.info())"
      ]
    },
    {
      "attachments": {},
      "cell_type": "markdown",
      "metadata": {},
      "source": [
        "### *Plot variables for visualisation*"
      ]
    },
    {
      "cell_type": "code",
      "execution_count": null,
      "metadata": {},
      "outputs": [],
      "source": [
        "col = df_further_analyis['KitchenQual'].unique()\n",
        "col"
      ]
    },
    {
      "cell_type": "code",
      "execution_count": null,
      "metadata": {},
      "outputs": [],
      "source": [
        "fig, ((ax1,ax2),(ax3,ax4)) = plt.subplots(nrows=2, ncols=2, figsize=(15, 5))\n",
        "sns.countplot(data=df_further_analyis, x='KitchenQual',ax=ax1)\n",
        "sns.scatterplot(data=df_further_analyis, x='KitchenQual', y='SalePrice', hue='OverallQual',ax=ax2)\n",
        "sns.scatterplot(data=df_further_analyis, x='KitchenQual', y='SalePrice', hue='GrLivArea',ax=ax3)\n",
        "sns.scatterplot(data=df_further_analyis, x='KitchenQual', y='SalePrice', hue='GarageArea',ax=ax4)\n",
        "plt.tight_layout()\n",
        "plt.show()"
      ]
    },
    {
      "attachments": {},
      "cell_type": "markdown",
      "metadata": {},
      "source": [
        "- The above plots show really good sale prices when houses contain 'Gd' 'Ex' grade of kitchens, coupled with high overall quality, good size living area, and have good garage area."
      ]
    },
    {
      "cell_type": "code",
      "execution_count": null,
      "metadata": {},
      "outputs": [],
      "source": [
        "fig = plt.figure(figsize=(20, 10))\n",
        "sns.boxplot(data=df_further_analyis, x='OverallQual', y='SalePrice')\n"
      ]
    },
    {
      "attachments": {},
      "cell_type": "markdown",
      "metadata": {},
      "source": [
        "- This box plot shows how strong the correlation is between overall quality ratings between 8 and 10 and the eventual sale price. There are very few outliers in the negative direction in this group.\n",
        "\n",
        "- The combined IQR for ratings 9 + 10 give an indication of a sale price between 320,000 and 480,000"
      ]
    },
    {
      "cell_type": "code",
      "execution_count": null,
      "metadata": {},
      "outputs": [],
      "source": [
        "fig = plt.figure(figsize=(20, 10))\n",
        "sns.violinplot(data=df_further_analyis, x=df_further_analyis['OverallQual'], y=df_further_analyis['SalePrice'], hue='KitchenQual')"
      ]
    },
    {
      "attachments": {},
      "cell_type": "markdown",
      "metadata": {},
      "source": [
        "- This vertical viloin plot shows how few houses with a kitchen quality rating of TA(Typical,Average) managed a decent sale price. Category 8 shows this particularly well.\n",
        "\n",
        "- The overall quality was high but the sale price has a negative correlation with kitchen quality.\n",
        "\n",
        "- There is a considerable jump in sale price when kitchen quality is excellent to compliment the overall house condition."
      ]
    },
    {
      "cell_type": "code",
      "execution_count": null,
      "metadata": {},
      "outputs": [],
      "source": [
        "fig, axes = plt.subplots(nrows=1, ncols=4, figsize=(20, 5))\n",
        "axes[0].bar(data=df_further_analyis, x=\"OverallQual\", height='SalePrice')\n",
        "axes[1].bar(data=df_further_analyis, x=\"OverallQual\", height='GrLivArea')\n",
        "axes[2].bar(data=df_further_analyis, x=\"OverallQual\", height='GarageArea')\n",
        "axes[3].bar(data=df_further_analyis, x=\"OverallQual\", height='TotalBsmtSF')"
      ]
    },
    {
      "cell_type": "code",
      "execution_count": null,
      "metadata": {},
      "outputs": [],
      "source": [
        "fig, (ax1,ax2) = plt.subplots(nrows=1, ncols=2, figsize=(20,7))\n",
        "sns.scatterplot(data=df_further_analyis, x='YearRemodAdd', y='SalePrice', hue='OverallQual', ax=ax1)\n",
        "sns.scatterplot(data=df_further_analyis, x='YearBuilt', y='SalePrice', hue='OverallQual', ax=ax2)"
      ]
    },
    {
      "attachments": {},
      "cell_type": "markdown",
      "metadata": {},
      "source": [
        "- Modern houses showing correlation with sale price. Modern houses seem to have greater space and better finishesand thus a greater sale price."
      ]
    },
    {
      "cell_type": "code",
      "execution_count": null,
      "metadata": {},
      "outputs": [],
      "source": [
        "fig =  plt.figure(figsize=(15,5))\n",
        "sns.scatterplot(data=df_further_analyis, x='YearBuilt', y='SalePrice', hue='1stFlrSF')"
      ]
    },
    {
      "attachments": {},
      "cell_type": "markdown",
      "metadata": {},
      "source": [
        "- The above plot shows a greater number of larger houses after about 1970. This correlates to eventual sale price."
      ]
    },
    {
      "attachments": {},
      "cell_type": "markdown",
      "metadata": {},
      "source": [
        "### Current conclusions from this analysis:\n",
        "\n",
        "- The overall quality rating seems to be a key influence on sale price.\n",
        "\n",
        "- This rating seems to be influenced heavily by the year it was built and/or the year any remodelling took place.\n",
        "\n",
        "- The overall quality rating is influenced/complimented by a kitchen quality rating of at least good, but moreso excellent.\n",
        "\n",
        "- To ensure a good sale price:\n",
        "\n",
        "    - An overall quality rating between 8-10\n",
        "    - An excellent grade of kitchen\n",
        "    - A garage area that is large and finished well\n",
        "    - Generally, more modern and spacious properties seem to fetch higher values."
      ]
    },
    {
      "cell_type": "markdown",
      "metadata": {},
      "source": [
        "---"
      ]
    },
    {
      "cell_type": "markdown",
      "metadata": {
        "id": "ltNetd085qHf"
      },
      "source": [
        "# Push files to Repo"
      ]
    },
    {
      "cell_type": "markdown",
      "metadata": {},
      "source": [
        "* If you do not need to push files to Repo, you may replace this section with \"Conclusions and Next Steps\" and state your conclusions and next steps."
      ]
    },
    {
      "cell_type": "code",
      "execution_count": null,
      "metadata": {
        "id": "aKlnIozA4eQO",
        "outputId": "fd09bc1f-adb1-4511-f6ce-492a6af570c0"
      },
      "outputs": [],
      "source": [
        "df_original.to_csv(f\"outputs/datasets/collection/original_no_nan.csv\", index=False)\n",
        "df_further_analyis.to_csv(f\"outputs/datasets/collection/further_analyis.csv\")\n"
      ]
    }
  ],
  "metadata": {
    "accelerator": "GPU",
    "colab": {
      "name": "Data Practitioner Jupyter Notebook.ipynb",
      "provenance": [],
      "toc_visible": true
    },
    "interpreter": {
      "hash": "8b8334dab9339717f727a1deaf837b322d7a41c20d15cc86be99a8e69ceec8ce"
    },
    "kernelspec": {
      "display_name": "Python 3.8.12 64-bit ('3.8.12': pyenv)",
      "name": "python3"
    },
    "language_info": {
      "codemirror_mode": {
        "name": "ipython",
        "version": 3
      },
      "file_extension": ".py",
      "mimetype": "text/x-python",
      "name": "python",
      "nbconvert_exporter": "python",
      "pygments_lexer": "ipython3",
      "version": "3.8.12 (default, Jan  8 2023, 13:43:19) \n[GCC 9.4.0]"
    },
    "orig_nbformat": 2
  },
  "nbformat": 4,
  "nbformat_minor": 2
}
