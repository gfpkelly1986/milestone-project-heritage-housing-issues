{
  "cells": [
    {
      "attachments": {},
      "cell_type": "markdown",
      "metadata": {
        "id": "0aStgWSO0E0E"
      },
      "source": [
        "# **(Data Collection)**"
      ]
    },
    {
      "attachments": {},
      "cell_type": "markdown",
      "metadata": {
        "id": "1eLEkw5O0ECa"
      },
      "source": [
        "## Objectives\n",
        "\n",
        "* Fetch data from Kaggle and save as raw data.\n",
        "* Carry out an initial investigation of the data.\n",
        "* Check data types are correct for carrying out further analysis on the target 'saleprice'.\n",
        "* Check data types in both csv files are matching so later correlation analysis is accurate.\n",
        "* Evaluate the data types of the feature variables\n",
        "* Evaluate the quantity of null values in the dataset and their possible implications.\n",
        "* Develop an understanding of what distributions and further analysis may be necessary.\n",
        "\n",
        "\n",
        "## Inputs\n",
        "\n",
        "* Kaggle JSON file - the authentication token.\n",
        "* Kaggle dataset URL: codeinstitute/housing-prices-data\n",
        "\n",
        "## Outputs\n",
        "\n",
        "* outputs/datasets/collection/original.csv\n",
        "* outputs/datasets/collection/inherited.csv\n",
        "\n",
        "\n"
      ]
    },
    {
      "cell_type": "markdown",
      "metadata": {
        "id": "9uWZXH9LwoQg"
      },
      "source": [
        "---"
      ]
    },
    {
      "cell_type": "markdown",
      "metadata": {
        "id": "cqP-UeN-z3i2"
      },
      "source": [
        "# Change working directory"
      ]
    },
    {
      "cell_type": "markdown",
      "metadata": {},
      "source": [
        "* We are assuming you will store the notebooks in a subfolder, therefore when running the notebook in the editor, you will need to change the working directory"
      ]
    },
    {
      "attachments": {},
      "cell_type": "markdown",
      "metadata": {
        "id": "aOGIGS-uz3i2"
      },
      "source": [
        "* We need to change the working directory from its current folder to its parent folder\n",
        "\n",
        "    * We access the current directory with os.getcwd()"
      ]
    },
    {
      "cell_type": "code",
      "execution_count": null,
      "metadata": {
        "id": "wZfF_j-Bz3i4",
        "outputId": "66943449-1436-4c3d-85c7-b85f9f78349b"
      },
      "outputs": [],
      "source": [
        "import os\n",
        "current_dir = os.getcwd()\n",
        "current_dir"
      ]
    },
    {
      "cell_type": "markdown",
      "metadata": {
        "id": "9MWW8E7lz3i7"
      },
      "source": [
        "We want to make the parent of the current directory the new current directory\n",
        "* os.path.dirname() gets the parent directory\n",
        "* os.chir() defines the new current directory"
      ]
    },
    {
      "cell_type": "code",
      "execution_count": null,
      "metadata": {
        "id": "TwHsQRWjz3i9",
        "outputId": "86849db3-cd2f-4cc5-ebb8-2d0caafa1a2c"
      },
      "outputs": [],
      "source": [
        "os.chdir(os.path.dirname(current_dir))\n",
        "print(\"You set a new current directory\")"
      ]
    },
    {
      "cell_type": "markdown",
      "metadata": {
        "id": "M_xPk_Ijz3i-"
      },
      "source": [
        "Confirm the new current directory"
      ]
    },
    {
      "cell_type": "code",
      "execution_count": null,
      "metadata": {
        "id": "vz3S-_kjz3jA",
        "outputId": "00b79ae4-75d0-4a96-d193-ac9ef9847ea2"
      },
      "outputs": [],
      "source": [
        "current_dir = os.getcwd()\n",
        "current_dir"
      ]
    },
    {
      "attachments": {},
      "cell_type": "markdown",
      "metadata": {
        "id": "-mavJ8DibrcQ"
      },
      "source": [
        "## Import the dataset from Kaggle.com\n",
        "\n",
        "- Kaggle must be installed to load the data\n",
        "\n",
        "- You also need to have registered an account and obtained a Kaggle API key (JSON-File)"
      ]
    },
    {
      "cell_type": "code",
      "execution_count": null,
      "metadata": {},
      "outputs": [],
      "source": [
        "! pip install kaggle==1.5.12"
      ]
    },
    {
      "cell_type": "markdown",
      "metadata": {
        "id": "ZY3l0-AxO93d"
      },
      "source": [
        "---"
      ]
    },
    {
      "attachments": {},
      "cell_type": "markdown",
      "metadata": {},
      "source": [
        "- Import operating system\n",
        "- Set the kaggle config directory to the current working directory\n",
        "- Set the read and write permissions to read and write for user only (600)"
      ]
    },
    {
      "cell_type": "code",
      "execution_count": null,
      "metadata": {},
      "outputs": [],
      "source": [
        "import os\n",
        "os.environ['KAGGLE_CONFIG_DIR'] = os.getcwd()\n",
        "! chmod 600 kaggle.json"
      ]
    },
    {
      "attachments": {},
      "cell_type": "markdown",
      "metadata": {},
      "source": [
        "- Define kaggle dataset as the file at the url containing the dataset on kaggle.com\n",
        "- Set/Create the folder this will stored in to inputs/datasets/raw\n",
        "- -p flag specifies the save to directory path \n",
        "- -d flag specifies the download path "
      ]
    },
    {
      "cell_type": "code",
      "execution_count": null,
      "metadata": {},
      "outputs": [],
      "source": [
        "KaggleDatasetPath = \"codeinstitute/housing-prices-data\"\n",
        "DestinationFolder = \"inputs/datasets/raw\"\n",
        "! kaggle datasets download -d {KaggleDatasetPath} -p {DestinationFolder}"
      ]
    },
    {
      "cell_type": "code",
      "execution_count": null,
      "metadata": {},
      "outputs": [],
      "source": [
        "! unzip {DestinationFolder}/*.zip -d {DestinationFolder} \\\n",
        "    && rm {DestinationFolder}/*.zip \\\n",
        "    && rm kaggle.json"
      ]
    },
    {
      "attachments": {},
      "cell_type": "markdown",
      "metadata": {},
      "source": [
        "## Load and Inspect the Kaggle Data"
      ]
    },
    {
      "attachments": {},
      "cell_type": "markdown",
      "metadata": {
        "id": "uFQo3ycuO-v6"
      },
      "source": [
        "- The following work contained in this notebook is part of the **'Data Understanding'** phase of the CRISP-DM Workflow."
      ]
    },
    {
      "cell_type": "code",
      "execution_count": null,
      "metadata": {},
      "outputs": [],
      "source": [
        "import pandas as pd\n",
        "\n",
        "df_house_prices_records = pd.read_csv(f\"inputs/datasets/raw/house-price-20211124T154130Z-001/house-price/house_prices_records.csv\")\n",
        "print(len(df_house_prices_records))\n",
        "print(df_house_prices_records.shape)\n",
        "df_house_prices_records.head(8)"
      ]
    },
    {
      "attachments": {},
      "cell_type": "markdown",
      "metadata": {},
      "source": [
        "#### Check the information relating to each column in the dataframe.\n",
        "- Note: Any column which has non-null-count below 1460 has 1460-n empty cells\n",
        "- Note: The target variable is an integer and has no cells with null values\n",
        "- Note: There are 9 columns which contain missing data\n",
        "- Note: Enclosed Porch and WoodeckSF have few entries in the dataset\n",
        "- Note: All columns contain duplicates but there is no concern of having duplicates in their context."
      ]
    },
    {
      "cell_type": "code",
      "execution_count": null,
      "metadata": {},
      "outputs": [],
      "source": [
        "df_house_prices_records.info()\n",
        "print(df_house_prices_records['WoodDeckSF'].info())"
      ]
    },
    {
      "cell_type": "markdown",
      "metadata": {},
      "source": [
        "---"
      ]
    },
    {
      "attachments": {},
      "cell_type": "markdown",
      "metadata": {},
      "source": [
        "- Check how many unique datatypes are contained in the dataset."
      ]
    },
    {
      "cell_type": "code",
      "execution_count": null,
      "metadata": {},
      "outputs": [],
      "source": [
        "unique_dtypes = set(df_house_prices_records.dtypes)\n",
        "unique_dtypes"
      ]
    },
    {
      "attachments": {},
      "cell_type": "markdown",
      "metadata": {},
      "source": [
        "- Check how many columns contain: **categorical, numerical(int), and numerical(float) variables**\n",
        "\n",
        "- Return a list of all these columns"
      ]
    },
    {
      "cell_type": "code",
      "execution_count": null,
      "metadata": {},
      "outputs": [],
      "source": [
        "df_house_prices_records_categorical_columns = df_house_prices_records.select_dtypes(include=['object']).columns.to_list()\n",
        "print(f\"There are {len(df_house_prices_records_categorical_columns)} columns that contain categorical data.\\n They are: {df_house_prices_records_categorical_columns}.\\n\\n\")\n",
        "\n",
        "df_house_prices_records_numerical_columns = df_house_prices_records.select_dtypes(include=['int']).columns.to_list()\n",
        "print(f\"There are {len(df_house_prices_records_numerical_columns)} columns that contain numerical data which are integers.\\n They are: {df_house_prices_records_numerical_columns}.\\n\\n\")\n",
        "\n",
        "df_house_prices_records_numerical_fl_columns = df_house_prices_records.select_dtypes(include=['float']).columns.to_list()\n",
        "print(f\"There are {len(df_house_prices_records_numerical_fl_columns)} columns that contain numerical data which are floats.\\n They are: {df_house_prices_records_numerical_fl_columns}.\\n\\n\")\n"
      ]
    },
    {
      "cell_type": "code",
      "execution_count": null,
      "metadata": {},
      "outputs": [],
      "source": [
        "\n",
        "columns_with_nan = df_house_prices_records.columns[df_house_prices_records.isna().sum() > 0].to_list()\n",
        "columns_with_nan"
      ]
    },
    {
      "attachments": {},
      "cell_type": "markdown",
      "metadata": {},
      "source": [
        "- Make quick assessment of each of the above features in order to understand what values may be required fill the Nan and 0.0 values if needed."
      ]
    },
    {
      "cell_type": "code",
      "execution_count": null,
      "metadata": {},
      "outputs": [],
      "source": [
        "# The sum total of 'null' values in all the columns which contain them.\n",
        "# Interesting observation is the possibility of woodecks and enclosed porches being desirable due to rarity.\n",
        "df_house_prices_records[columns_with_nan].isna().sum()"
      ]
    },
    {
      "cell_type": "code",
      "execution_count": null,
      "metadata": {},
      "outputs": [],
      "source": [
        "# There are 781 houses from 1460 samples which have no second floor(54% of the data taken)\n",
        "# Total percentage of houses with no second floor is:\n",
        "no_top_floor_float = len(df_house_prices_records.query(\"`2ndFlrSF` == 0.0\"))\n",
        "no_top_floor_NaN = df_house_prices_records['2ndFlrSF'].isna().sum()\n",
        "print(no_top_floor_float)\n",
        "print(no_top_floor_NaN)\n",
        "percen_dataset_no_top_floor = (no_top_floor_float + no_top_floor_NaN)/1460\n",
        "percen_dataset_no_top_floor = round(percen_dataset_no_top_floor, 2)\n",
        "print(f\"{percen_dataset_no_top_floor}% of houses in this dataset have no top floor\")"
      ]
    },
    {
      "cell_type": "code",
      "execution_count": null,
      "metadata": {},
      "outputs": [],
      "source": [
        "# 'BedroomAbvGr' may be a candidate to be transformed to a categorical variable if necessary.\n",
        "# These are bedrooms that are not at basement level i.e. above ground. Nan could likely be grouped with 0.0 here as both likely mean the same thing in this instance.\n",
        "unique_bedroom_grades = set(df_house_prices_records['BedroomAbvGr'].unique())\n",
        "unique_bedroom_grades"
      ]
    },
    {
      "cell_type": "code",
      "execution_count": null,
      "metadata": {},
      "outputs": [],
      "source": [
        "df_unique_bedroom_grades = df_house_prices_records['BedroomAbvGr']\n",
        "df_unique_bedroom_grades.head(30)"
      ]
    },
    {
      "cell_type": "code",
      "execution_count": null,
      "metadata": {},
      "outputs": [],
      "source": [
        "# Note here: None and nan likely both mean no basement in this context and are essentially the same category.\n",
        "unique_bsmt_finish_types = set(df_house_prices_records['BsmtFinType1'].unique())\n",
        "unique_bsmt_finish_types "
      ]
    },
    {
      "cell_type": "code",
      "execution_count": null,
      "metadata": {},
      "outputs": [],
      "source": [
        "# Enclosed porches will probably add value to a home. They would give more living space and so are possibly a desirable feature.\n",
        "# The absence of an enclosed porch may also decrease the sale price, and so might correlate to poor sale prices??\n",
        "# There are 136 examples with porches and 18 unique sizes in that group.\n",
        "unique_enclosed_porch_values  = set(df_house_prices_records['EnclosedPorch'].unique())\n",
        "unique_enclosed_porch_values"
      ]
    },
    {
      "cell_type": "code",
      "execution_count": null,
      "metadata": {},
      "outputs": [],
      "source": [
        "# Develop a better understanding of the distribution in this column\n",
        "unique_garage_finishes = df_house_prices_records['GarageFinish'].unique()\n",
        "unique_garage_finishes"
      ]
    },
    {
      "cell_type": "code",
      "execution_count": null,
      "metadata": {},
      "outputs": [],
      "source": [
        "# Develop a better understanding of the distribution in this column\n",
        "\n",
        "df_garage_yt_blt = df_house_prices_records['GarageYrBlt']\n",
        "df_garage_yt_blt"
      ]
    },
    {
      "cell_type": "code",
      "execution_count": null,
      "metadata": {},
      "outputs": [],
      "source": [
        "df_bsmt_exposure = set(df_house_prices_records['BsmtExposure'].unique())\n",
        "df_bsmt_exposure"
      ]
    },
    {
      "cell_type": "code",
      "execution_count": null,
      "metadata": {},
      "outputs": [],
      "source": [
        "# Distribution/correlationanalysis needed to understand this feature further.\n",
        "# NaN values will likely take mean or median\n",
        "df_lot_frontage = df_house_prices_records['LotFrontage'].head(10)\n",
        "print(df_lot_frontage)\n",
        "df = df_house_prices_records['LotFrontage'].iloc[7:8]\n",
        "df"
      ]
    },
    {
      "cell_type": "code",
      "execution_count": null,
      "metadata": {},
      "outputs": [],
      "source": [
        "# There are only 8 NaN values in this column as seen above. Assess the distribution\n",
        "df_mas_vnr_area = df_house_prices_records['MasVnrArea']\n",
        "print(df_mas_vnr_area.head(10))\n",
        "\n"
      ]
    },
    {
      "cell_type": "code",
      "execution_count": null,
      "metadata": {},
      "outputs": [],
      "source": [
        "# This feature stands out as a possible rarity and something that could add value. May have to alter the NaN to 0.0 to get a measurable square ft value?\n",
        "df_woodeck = df_house_prices_records['WoodDeckSF']\n",
        "df_woodeck.head(10)\n",
        "\n",
        "df = df_house_prices_records['WoodDeckSF'].iloc[7:10]\n",
        "df.values.sum()"
      ]
    },
    {
      "cell_type": "code",
      "execution_count": null,
      "metadata": {},
      "outputs": [],
      "source": [
        "# Possible room to categorize these variables if required. < 5 = poor > 5 = Good?\n",
        "df_condition = set(df_house_prices_records['OverallCond'].unique())\n",
        "print(df_condition)\n",
        "\n",
        "df_quality = set(df_house_prices_records['OverallQual'].unique())\n",
        "print(df_quality)\n"
      ]
    },
    {
      "cell_type": "code",
      "execution_count": null,
      "metadata": {},
      "outputs": [],
      "source": [
        "# Assess later if older houses have any correlation on sale price, particularly if they have been remodelled or have some stand out features.\n",
        "df_YearBuilt = \tdf_house_prices_records['YearBuilt']\n",
        "print(df_YearBuilt.head(5))\n",
        "\n",
        "df_YearRemodAdd = df_house_prices_records['YearRemodAdd']\n",
        "print(df_YearRemodAdd.head(5))"
      ]
    },
    {
      "attachments": {},
      "cell_type": "markdown",
      "metadata": {},
      "source": [
        "\n",
        "- Study the inherited houses dataset"
      ]
    },
    {
      "cell_type": "code",
      "execution_count": null,
      "metadata": {},
      "outputs": [],
      "source": [
        "df_inherited_houses = pd.read_csv(f\"inputs/datasets/raw/house-price-20211124T154130Z-001/house-price/inherited_houses.csv\")\n",
        "df_inherited_houses"
      ]
    },
    {
      "attachments": {},
      "cell_type": "markdown",
      "metadata": {},
      "source": [
        "- Compare the 2 dataframes to make sure all column data types match up."
      ]
    },
    {
      "cell_type": "code",
      "execution_count": null,
      "metadata": {},
      "outputs": [],
      "source": [
        "df_inherited_houses.info()"
      ]
    },
    {
      "cell_type": "code",
      "execution_count": null,
      "metadata": {},
      "outputs": [],
      "source": [
        "# See some values which were left out due to length of outputs\n",
        "df_testing = df_house_prices_records.filter(['WoodDeckSF','YearBuilt','YearRemodAdd'])\t\t\n",
        "print(df_testing.info())"
      ]
    },
    {
      "cell_type": "markdown",
      "metadata": {},
      "source": [
        "---"
      ]
    },
    {
      "cell_type": "code",
      "execution_count": null,
      "metadata": {},
      "outputs": [],
      "source": [
        "df_house_prices_records.head(3)"
      ]
    },
    {
      "attachments": {},
      "cell_type": "markdown",
      "metadata": {},
      "source": [
        "- A comparison of datatypes in the house_records set vs the inherited_houses set highlighted the following needed changes to avoid skewed correlation results further into the project:\n",
        "\n",
        "    - In the inherited housing set, change the following:\n",
        "        - BsmtFinSF1 change to int\n",
        "        - BsmtUnfSF change to int\n",
        "        - GarageArea change to int\n",
        "        - TotalBsmtSF change to int\n",
        "    \n",
        "    - In the housing records set, change the following:\n",
        "        - 2ndFlrSF change to int\n",
        "        - BedroomAbvGr change to int\n",
        "        - EnclosedPorch change to int\n",
        "        - WoodDescSF change to int"
      ]
    },
    {
      "cell_type": "code",
      "execution_count": null,
      "metadata": {},
      "outputs": [],
      "source": [
        "columns_to_update1 = ['BsmtFinSF1','BsmtUnfSF', 'GarageArea', 'TotalBsmtSF']\n",
        "\n",
        "df_inherited_houses[columns_to_update1] = df_inherited_houses[columns_to_update1].astype(int)\n",
        "\n",
        "df_inherited_houses.info()\n"
      ]
    },
    {
      "cell_type": "code",
      "execution_count": null,
      "metadata": {},
      "outputs": [],
      "source": [
        "columns_to_update = ['2ndFlrSF', 'BedroomAbvGr', 'EnclosedPorch', 'WoodDeckSF']\n",
        "df_house_prices_records.loc[:, ('2ndFlrSF', 'BedroomAbvGr', 'EnclosedPorch', 'WoodDeckSF')] = df_house_prices_records[columns_to_update].fillna(0).astype(int)\n",
        "df_house_prices_records.info()"
      ]
    },
    {
      "attachments": {},
      "cell_type": "markdown",
      "metadata": {},
      "source": [
        "##### Compare both dataframes for type\n",
        "\n",
        "- Inherited houses dataframe  dtypes: float64(3), int64(16), object(4)\n",
        "\n",
        "- House records dataframe  dtypes: float64(3), int64(17), object(4)"
      ]
    },
    {
      "cell_type": "code",
      "execution_count": null,
      "metadata": {},
      "outputs": [],
      "source": [
        "# See which columns remain with NaN values\n",
        "df_house_prices_records[columns_with_nan].isna().sum()"
      ]
    },
    {
      "cell_type": "code",
      "execution_count": null,
      "metadata": {},
      "outputs": [],
      "source": [
        "# Change the 8 NaN values in MasVnrArea due to small quantity and similar meaning.\n",
        "df_house_prices_records.loc[:, ('MasVnrArea')] = df_house_prices_records['MasVnrArea'].fillna(0.0)\n",
        "\n",
        "df_mas_vnr_area = df_house_prices_records['MasVnrArea']\n",
        "df_mas_vnr_area.isna().sum()"
      ]
    },
    {
      "attachments": {},
      "cell_type": "markdown",
      "metadata": {},
      "source": [
        "##### These columns still have NaN values at this point.\n",
        "\n",
        "- BsmtFinType1 (obj: 114)\n",
        "\n",
        "- GarageFinish (obj: 162)\n",
        "\n",
        "- GarageYrBlt (float: 81)\n",
        "\n",
        "- LotFrontage (float: 259)\n"
      ]
    },
    {
      "cell_type": "code",
      "execution_count": null,
      "metadata": {},
      "outputs": [],
      "source": [
        "remaining_columns_with_nan = ['BsmtFinType1', 'GarageFinish', 'GarageYrBlt', 'LotFrontage']\n",
        "df_house_prices_records[remaining_columns_with_nan].head(10)"
      ]
    },
    {
      "attachments": {},
      "cell_type": "markdown",
      "metadata": {},
      "source": [
        "#### Conclusion\n",
        "\n",
        "- This notebook allowed me to understand:\n",
        "\n",
        "    -  What datatypes were contained in the dataset\n",
        "    - The inherited and original set needed to alter some data types so later predictions would be more accurate\n",
        "    - Some object datatypes which will categorize to numerical if needed.\n",
        "    - Overall, what data was contained in the dataset and how I might proceed with analysis and cleaning."
      ]
    },
    {
      "cell_type": "markdown",
      "metadata": {
        "id": "ltNetd085qHf"
      },
      "source": [
        "# Push files to Repo"
      ]
    },
    {
      "cell_type": "markdown",
      "metadata": {},
      "source": [
        "* If you do not need to push files to Repo, you may replace this section with \"Conclusions and Next Steps\" and state your conclusions and next steps."
      ]
    },
    {
      "cell_type": "code",
      "execution_count": null,
      "metadata": {
        "id": "aKlnIozA4eQO",
        "outputId": "fd09bc1f-adb1-4511-f6ce-492a6af570c0"
      },
      "outputs": [],
      "source": [
        "import os\n",
        "try:\n",
        "  os.makedirs(name='outputs/datasets/collection')\n",
        "except Exception as e:\n",
        "    print(e)\n",
        "\n",
        "df_house_prices_records.to_csv(f\"outputs/datasets/collection/original.csv\", index=False)\n",
        "df_inherited_houses.to_csv(f\"outputs/datasets/collection/inherited.csv\", index=False)\n"
      ]
    }
  ],
  "metadata": {
    "accelerator": "GPU",
    "colab": {
      "name": "Data Practitioner Jupyter Notebook.ipynb",
      "provenance": [],
      "toc_visible": true
    },
    "interpreter": {
      "hash": "8b8334dab9339717f727a1deaf837b322d7a41c20d15cc86be99a8e69ceec8ce"
    },
    "kernelspec": {
      "display_name": "Python 3.8.12 64-bit ('3.8.12': pyenv)",
      "name": "python3"
    },
    "language_info": {
      "codemirror_mode": {
        "name": "ipython",
        "version": 3
      },
      "file_extension": ".py",
      "mimetype": "text/x-python",
      "name": "python",
      "nbconvert_exporter": "python",
      "pygments_lexer": "ipython3",
      "version": "3.8.12 (default, Jan  8 2023, 13:43:19) \n[GCC 9.4.0]"
    },
    "orig_nbformat": 2
  },
  "nbformat": 4,
  "nbformat_minor": 2
}
